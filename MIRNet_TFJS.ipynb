{
  "nbformat": 4,
  "nbformat_minor": 0,
  "metadata": {
    "colab": {
      "name": "MIRNet_TFJS.ipynb",
      "provenance": [],
      "authorship_tag": "ABX9TyO7OYhDCGapLWRnZ1Mv23Xj",
      "include_colab_link": true
    },
    "kernelspec": {
      "name": "python3",
      "display_name": "Python 3"
    },
    "accelerator": "GPU"
  },
  "cells": [
    {
      "cell_type": "markdown",
      "metadata": {
        "id": "view-in-github",
        "colab_type": "text"
      },
      "source": [
        "<a href=\"https://colab.research.google.com/github/Rishit-dagli/MIRNet-TFJS/blob/main/MIRNet_TFJS.ipynb\" target=\"_parent\"><img src=\"https://colab.research.google.com/assets/colab-badge.svg\" alt=\"Open In Colab\"/></a>"
      ]
    },
    {
      "cell_type": "markdown",
      "metadata": {
        "id": "nvl_Sp72Cndi"
      },
      "source": [
        "<h1> MIRNet TFJS </h1>\r\n",
        "\r\n",
        "This notebook shows the the process of converting the `SavedModel` we built in the [prequel notebook](https://github.com/Rishit-dagli/MIRNet-TFJS/blob/main/MIRNet_Saved_Model.ipynb) for the **MIRNet** model as proposed by [Learning Enriched Features for Real Image Restoration and Enhancement](https://arxiv.org/pdf/2003.06792v2.pdf) by Zamir et al. This model is capable of enhancing low-light images upto a great extent.\r\n",
        "\r\n",
        "<h2>A bit about the architecture</h2>\r\n",
        "\r\n",
        "The MIRNet presents a novel architecture with the collective goals of maintaining high-resolution representations through the entire network, and\r\n",
        "receiving strong contextual information from the low-resolution representations.\r\n",
        "\r\n",
        "The core of this approach is a multi-scale residual block containing the following key elements:\r\n",
        "- parallel multi-resolution convolution streams for extracting multi-scale features\r\n",
        "- information exchange across the multi-resolution streams\r\n",
        "- spatial and channel attention mechanisms for capturing contextual information\r\n",
        "- attention based multi-scale feature aggregation.\r\n",
        "\r\n",
        "![](https://i.imgur.com/VOzfG9a.png)\r\n",
        "<p align=\"center\">\r\n",
        "<small>Framework of MIRNet</small>\r\n",
        "</p>\r\n",
        "\r\n",
        "The figure above shows the framework of the proposed network MIRNet that learns enriched feature representations for image restoration and enhancement.\r\n",
        "\r\n",
        "<h2>Examples</h2>\r\n",
        "\r\n",
        "<p align=\"center\">\r\n",
        "<img src=\"https://github.com/soumik12345/MIRNet/raw/master/assets/lol_results.gif\"</img><br>\r\n",
        "<small><a href=\"https://github.com/soumik12345/MIRNet/blob/master/assets/lol_results.gif\">Source</a></small>\r\n",
        "</p>\r\n",
        "\r\n",
        "Model training code and pre-trained weights are provided by Soumik through [this repository](https://github.com/soumik12345/MIRNet/)."
      ]
    },
    {
      "cell_type": "markdown",
      "metadata": {
        "id": "jJdrvLEmDWj4"
      },
      "source": [
        "## Setup"
      ]
    },
    {
      "cell_type": "markdown",
      "metadata": {
        "id": "OncYoUYmD3mo"
      },
      "source": [
        "Installing TensorFlow JS"
      ]
    },
    {
      "cell_type": "code",
      "metadata": {
        "colab": {
          "base_uri": "https://localhost:8080/"
        },
        "id": "T7NLYo9iDBxC",
        "outputId": "bbb77bba-a2f0-4cb8-e5ce-64291ba0b11a"
      },
      "source": [
        "!sudo pip install tensorflowjs"
      ],
      "execution_count": 1,
      "outputs": [
        {
          "output_type": "stream",
          "text": [
            "Collecting tensorflowjs\n",
            "\u001b[?25l  Downloading https://files.pythonhosted.org/packages/fe/7e/b005271236ddb90fb8a85e29e32ba0841e6737faf9068adbc5ca28df6a41/tensorflowjs-2.8.1-py3-none-any.whl (63kB)\n",
            "\u001b[K     |████████████████████████████████| 71kB 3.8MB/s \n",
            "\u001b[?25hCollecting tensorflow-hub<0.10,>=0.7.0\n",
            "\u001b[?25l  Downloading https://files.pythonhosted.org/packages/ac/83/a7df82744a794107641dad1decaad017d82e25f0e1f761ac9204829eef96/tensorflow_hub-0.9.0-py2.py3-none-any.whl (103kB)\n",
            "\u001b[K     |████████████████████████████████| 112kB 3.9MB/s \n",
            "\u001b[?25hRequirement already satisfied: h5py<3,>=2.8.0 in /usr/local/lib/python3.6/dist-packages (from tensorflowjs) (2.10.0)\n",
            "Requirement already satisfied: tensorflow<3,>=2.1.0 in /usr/local/lib/python3.6/dist-packages (from tensorflowjs) (2.4.0)\n",
            "Requirement already satisfied: six<2,>=1.12.0 in /usr/local/lib/python3.6/dist-packages (from tensorflowjs) (1.15.0)\n",
            "Requirement already satisfied: numpy>=1.12.0 in /usr/local/lib/python3.6/dist-packages (from tensorflow-hub<0.10,>=0.7.0->tensorflowjs) (1.19.4)\n",
            "Requirement already satisfied: protobuf>=3.8.0 in /usr/local/lib/python3.6/dist-packages (from tensorflow-hub<0.10,>=0.7.0->tensorflowjs) (3.12.4)\n",
            "Requirement already satisfied: tensorboard~=2.4 in /usr/local/lib/python3.6/dist-packages (from tensorflow<3,>=2.1.0->tensorflowjs) (2.4.0)\n",
            "Requirement already satisfied: tensorflow-estimator<2.5.0,>=2.4.0rc0 in /usr/local/lib/python3.6/dist-packages (from tensorflow<3,>=2.1.0->tensorflowjs) (2.4.0)\n",
            "Requirement already satisfied: absl-py~=0.10 in /usr/local/lib/python3.6/dist-packages (from tensorflow<3,>=2.1.0->tensorflowjs) (0.10.0)\n",
            "Requirement already satisfied: wrapt~=1.12.1 in /usr/local/lib/python3.6/dist-packages (from tensorflow<3,>=2.1.0->tensorflowjs) (1.12.1)\n",
            "Requirement already satisfied: flatbuffers~=1.12.0 in /usr/local/lib/python3.6/dist-packages (from tensorflow<3,>=2.1.0->tensorflowjs) (1.12)\n",
            "Requirement already satisfied: google-pasta~=0.2 in /usr/local/lib/python3.6/dist-packages (from tensorflow<3,>=2.1.0->tensorflowjs) (0.2.0)\n",
            "Requirement already satisfied: keras-preprocessing~=1.1.2 in /usr/local/lib/python3.6/dist-packages (from tensorflow<3,>=2.1.0->tensorflowjs) (1.1.2)\n",
            "Requirement already satisfied: opt-einsum~=3.3.0 in /usr/local/lib/python3.6/dist-packages (from tensorflow<3,>=2.1.0->tensorflowjs) (3.3.0)\n",
            "Requirement already satisfied: termcolor~=1.1.0 in /usr/local/lib/python3.6/dist-packages (from tensorflow<3,>=2.1.0->tensorflowjs) (1.1.0)\n",
            "Requirement already satisfied: typing-extensions~=3.7.4 in /usr/local/lib/python3.6/dist-packages (from tensorflow<3,>=2.1.0->tensorflowjs) (3.7.4.3)\n",
            "Requirement already satisfied: wheel~=0.35 in /usr/local/lib/python3.6/dist-packages (from tensorflow<3,>=2.1.0->tensorflowjs) (0.36.2)\n",
            "Requirement already satisfied: gast==0.3.3 in /usr/local/lib/python3.6/dist-packages (from tensorflow<3,>=2.1.0->tensorflowjs) (0.3.3)\n",
            "Requirement already satisfied: grpcio~=1.32.0 in /usr/local/lib/python3.6/dist-packages (from tensorflow<3,>=2.1.0->tensorflowjs) (1.32.0)\n",
            "Requirement already satisfied: astunparse~=1.6.3 in /usr/local/lib/python3.6/dist-packages (from tensorflow<3,>=2.1.0->tensorflowjs) (1.6.3)\n",
            "Requirement already satisfied: setuptools in /usr/local/lib/python3.6/dist-packages (from protobuf>=3.8.0->tensorflow-hub<0.10,>=0.7.0->tensorflowjs) (50.3.2)\n",
            "Requirement already satisfied: google-auth-oauthlib<0.5,>=0.4.1 in /usr/local/lib/python3.6/dist-packages (from tensorboard~=2.4->tensorflow<3,>=2.1.0->tensorflowjs) (0.4.2)\n",
            "Requirement already satisfied: tensorboard-plugin-wit>=1.6.0 in /usr/local/lib/python3.6/dist-packages (from tensorboard~=2.4->tensorflow<3,>=2.1.0->tensorflowjs) (1.7.0)\n",
            "Requirement already satisfied: google-auth<2,>=1.6.3 in /usr/local/lib/python3.6/dist-packages (from tensorboard~=2.4->tensorflow<3,>=2.1.0->tensorflowjs) (1.17.2)\n",
            "Requirement already satisfied: werkzeug>=0.11.15 in /usr/local/lib/python3.6/dist-packages (from tensorboard~=2.4->tensorflow<3,>=2.1.0->tensorflowjs) (1.0.1)\n",
            "Requirement already satisfied: requests<3,>=2.21.0 in /usr/local/lib/python3.6/dist-packages (from tensorboard~=2.4->tensorflow<3,>=2.1.0->tensorflowjs) (2.23.0)\n",
            "Requirement already satisfied: markdown>=2.6.8 in /usr/local/lib/python3.6/dist-packages (from tensorboard~=2.4->tensorflow<3,>=2.1.0->tensorflowjs) (3.3.3)\n",
            "Requirement already satisfied: requests-oauthlib>=0.7.0 in /usr/local/lib/python3.6/dist-packages (from google-auth-oauthlib<0.5,>=0.4.1->tensorboard~=2.4->tensorflow<3,>=2.1.0->tensorflowjs) (1.3.0)\n",
            "Requirement already satisfied: rsa<5,>=3.1.4; python_version >= \"3\" in /usr/local/lib/python3.6/dist-packages (from google-auth<2,>=1.6.3->tensorboard~=2.4->tensorflow<3,>=2.1.0->tensorflowjs) (4.6)\n",
            "Requirement already satisfied: cachetools<5.0,>=2.0.0 in /usr/local/lib/python3.6/dist-packages (from google-auth<2,>=1.6.3->tensorboard~=2.4->tensorflow<3,>=2.1.0->tensorflowjs) (4.2.0)\n",
            "Requirement already satisfied: pyasn1-modules>=0.2.1 in /usr/local/lib/python3.6/dist-packages (from google-auth<2,>=1.6.3->tensorboard~=2.4->tensorflow<3,>=2.1.0->tensorflowjs) (0.2.8)\n",
            "Requirement already satisfied: urllib3!=1.25.0,!=1.25.1,<1.26,>=1.21.1 in /usr/local/lib/python3.6/dist-packages (from requests<3,>=2.21.0->tensorboard~=2.4->tensorflow<3,>=2.1.0->tensorflowjs) (1.24.3)\n",
            "Requirement already satisfied: chardet<4,>=3.0.2 in /usr/local/lib/python3.6/dist-packages (from requests<3,>=2.21.0->tensorboard~=2.4->tensorflow<3,>=2.1.0->tensorflowjs) (3.0.4)\n",
            "Requirement already satisfied: idna<3,>=2.5 in /usr/local/lib/python3.6/dist-packages (from requests<3,>=2.21.0->tensorboard~=2.4->tensorflow<3,>=2.1.0->tensorflowjs) (2.10)\n",
            "Requirement already satisfied: certifi>=2017.4.17 in /usr/local/lib/python3.6/dist-packages (from requests<3,>=2.21.0->tensorboard~=2.4->tensorflow<3,>=2.1.0->tensorflowjs) (2020.12.5)\n",
            "Requirement already satisfied: importlib-metadata; python_version < \"3.8\" in /usr/local/lib/python3.6/dist-packages (from markdown>=2.6.8->tensorboard~=2.4->tensorflow<3,>=2.1.0->tensorflowjs) (3.3.0)\n",
            "Requirement already satisfied: oauthlib>=3.0.0 in /usr/local/lib/python3.6/dist-packages (from requests-oauthlib>=0.7.0->google-auth-oauthlib<0.5,>=0.4.1->tensorboard~=2.4->tensorflow<3,>=2.1.0->tensorflowjs) (3.1.0)\n",
            "Requirement already satisfied: pyasn1>=0.1.3 in /usr/local/lib/python3.6/dist-packages (from rsa<5,>=3.1.4; python_version >= \"3\"->google-auth<2,>=1.6.3->tensorboard~=2.4->tensorflow<3,>=2.1.0->tensorflowjs) (0.4.8)\n",
            "Requirement already satisfied: zipp>=0.5 in /usr/local/lib/python3.6/dist-packages (from importlib-metadata; python_version < \"3.8\"->markdown>=2.6.8->tensorboard~=2.4->tensorflow<3,>=2.1.0->tensorflowjs) (3.4.0)\n",
            "Installing collected packages: tensorflow-hub, tensorflowjs\n",
            "  Found existing installation: tensorflow-hub 0.10.0\n",
            "    Uninstalling tensorflow-hub-0.10.0:\n",
            "      Successfully uninstalled tensorflow-hub-0.10.0\n",
            "Successfully installed tensorflow-hub-0.9.0 tensorflowjs-2.8.1\n"
          ],
          "name": "stdout"
        }
      ]
    },
    {
      "cell_type": "markdown",
      "metadata": {
        "id": "qWGE63UxD7R6"
      },
      "source": [
        "Downloading the TensorFlow `SavedModel` which we made in the [prequel notebook](https://github.com/Rishit-dagli/MIRNet-TFJS/blob/main/MIRNet_Saved_Model.ipynb)"
      ]
    },
    {
      "cell_type": "code",
      "metadata": {
        "colab": {
          "base_uri": "https://localhost:8080/"
        },
        "id": "qX-LWeQGCM8B",
        "outputId": "ad84ec2b-eea9-4a1f-a62b-eb642b0dff78"
      },
      "source": [
        "!wget --load-cookies /tmp/cookies.txt \"https://docs.google.com/uc?export=download&confirm=$(wget --quiet --save-cookies /tmp/cookies.txt --keep-session-cookies --no-check-certificate 'https://docs.google.com/uc?export=download&id=1SyqUAkixPfdd1894GcILtmTY3owaUem_' -O- | sed -rn 's/.*confirm=([0-9A-Za-z_]+).*/\\1\\n/p')&id=1SyqUAkixPfdd1894GcILtmTY3owaUem_\" -O saved-model.tar.gz && rm -rf /tmp/cookies.txt"
      ],
      "execution_count": 6,
      "outputs": [
        {
          "output_type": "stream",
          "text": [
            "--2020-12-20 17:07:16--  https://docs.google.com/uc?export=download&confirm=axhL&id=1SyqUAkixPfdd1894GcILtmTY3owaUem_\n",
            "Resolving docs.google.com (docs.google.com)... 108.177.125.102, 108.177.125.101, 108.177.125.113, ...\n",
            "Connecting to docs.google.com (docs.google.com)|108.177.125.102|:443... connected.\n",
            "HTTP request sent, awaiting response... 302 Moved Temporarily\n",
            "Location: https://doc-0k-3k-docs.googleusercontent.com/docs/securesc/m88g6hel12mvkfm4f18onshjdeivqv9k/mq5aj7eqd54h9pp60aag90p70pek0edn/1608483975000/11941728310014738790/13527291313208939176Z/1SyqUAkixPfdd1894GcILtmTY3owaUem_?e=download [following]\n",
            "--2020-12-20 17:07:16--  https://doc-0k-3k-docs.googleusercontent.com/docs/securesc/m88g6hel12mvkfm4f18onshjdeivqv9k/mq5aj7eqd54h9pp60aag90p70pek0edn/1608483975000/11941728310014738790/13527291313208939176Z/1SyqUAkixPfdd1894GcILtmTY3owaUem_?e=download\n",
            "Resolving doc-0k-3k-docs.googleusercontent.com (doc-0k-3k-docs.googleusercontent.com)... 64.233.189.132, 2404:6800:4008:c07::84\n",
            "Connecting to doc-0k-3k-docs.googleusercontent.com (doc-0k-3k-docs.googleusercontent.com)|64.233.189.132|:443... connected.\n",
            "HTTP request sent, awaiting response... 302 Found\n",
            "Location: https://docs.google.com/nonceSigner?nonce=id312lnjknjjm&continue=https://doc-0k-3k-docs.googleusercontent.com/docs/securesc/m88g6hel12mvkfm4f18onshjdeivqv9k/mq5aj7eqd54h9pp60aag90p70pek0edn/1608483975000/11941728310014738790/13527291313208939176Z/1SyqUAkixPfdd1894GcILtmTY3owaUem_?e%3Ddownload&hash=m67p4s3qnm6e8us05glq6mngl1ig11dg [following]\n",
            "--2020-12-20 17:07:16--  https://docs.google.com/nonceSigner?nonce=id312lnjknjjm&continue=https://doc-0k-3k-docs.googleusercontent.com/docs/securesc/m88g6hel12mvkfm4f18onshjdeivqv9k/mq5aj7eqd54h9pp60aag90p70pek0edn/1608483975000/11941728310014738790/13527291313208939176Z/1SyqUAkixPfdd1894GcILtmTY3owaUem_?e%3Ddownload&hash=m67p4s3qnm6e8us05glq6mngl1ig11dg\n",
            "Connecting to docs.google.com (docs.google.com)|108.177.125.102|:443... connected.\n",
            "HTTP request sent, awaiting response... 302 Found\n",
            "Location: https://doc-0k-3k-docs.googleusercontent.com/docs/securesc/m88g6hel12mvkfm4f18onshjdeivqv9k/mq5aj7eqd54h9pp60aag90p70pek0edn/1608483975000/11941728310014738790/13527291313208939176Z/1SyqUAkixPfdd1894GcILtmTY3owaUem_?e=download&nonce=id312lnjknjjm&user=13527291313208939176Z&hash=5olnpr7a7b83qnj2qalk2slp7abji431 [following]\n",
            "--2020-12-20 17:07:16--  https://doc-0k-3k-docs.googleusercontent.com/docs/securesc/m88g6hel12mvkfm4f18onshjdeivqv9k/mq5aj7eqd54h9pp60aag90p70pek0edn/1608483975000/11941728310014738790/13527291313208939176Z/1SyqUAkixPfdd1894GcILtmTY3owaUem_?e=download&nonce=id312lnjknjjm&user=13527291313208939176Z&hash=5olnpr7a7b83qnj2qalk2slp7abji431\n",
            "Connecting to doc-0k-3k-docs.googleusercontent.com (doc-0k-3k-docs.googleusercontent.com)|64.233.189.132|:443... connected.\n",
            "HTTP request sent, awaiting response... 200 OK\n",
            "Length: unspecified [application/x-gzip]\n",
            "Saving to: ‘saved-model.tar.gz’\n",
            "\n",
            "saved-model.tar.gz      [     <=>            ] 128.86M   132MB/s    in 1.0s    \n",
            "\n",
            "2020-12-20 17:07:17 (132 MB/s) - ‘saved-model.tar.gz’ saved [135118861]\n",
            "\n"
          ],
          "name": "stdout"
        }
      ]
    },
    {
      "cell_type": "markdown",
      "metadata": {
        "id": "JNtfNoeJELeg"
      },
      "source": [
        "Let us take a look if the `saved-model.tar.gz` appears which we just downloaded."
      ]
    },
    {
      "cell_type": "code",
      "metadata": {
        "colab": {
          "base_uri": "https://localhost:8080/"
        },
        "id": "nJPQrF_xDyl6",
        "outputId": "0b743db0-fed9-4f44-dd17-c28b9e7c99d7"
      },
      "source": [
        "!ls"
      ],
      "execution_count": 7,
      "outputs": [
        {
          "output_type": "stream",
          "text": [
            "sample_data  saved-model.tar.gz\n"
          ],
          "name": "stdout"
        }
      ]
    },
    {
      "cell_type": "markdown",
      "metadata": {
        "id": "mlkWCUo_ETup"
      },
      "source": [
        "We will now unzip the `saved-model.tar.gz` which we just downloaded."
      ]
    },
    {
      "cell_type": "code",
      "metadata": {
        "id": "1VEYuMMPEcQh"
      },
      "source": [
        "saved_model_dir = \"savedmodel\" #@param {type:\"string\"}\n",
        "\n",
        "import shutil\n",
        "shutil.unpack_archive(\"saved-model.tar.gz\", saved_model_dir)"
      ],
      "execution_count": 10,
      "outputs": []
    },
    {
      "cell_type": "markdown",
      "metadata": {
        "id": "isIrQonlI6jq"
      },
      "source": [
        "### A couple of imports"
      ]
    },
    {
      "cell_type": "code",
      "metadata": {
        "id": "XaSqlinXDctI"
      },
      "source": [
        "from PIL import Image\r\n",
        "import tensorflow as tf\r\n",
        "import tensorflowjs as tfjs\r\n",
        "import numpy as np"
      ],
      "execution_count": 11,
      "outputs": []
    }
  ]
}